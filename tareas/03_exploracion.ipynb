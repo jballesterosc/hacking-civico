{
  "nbformat": 4,
  "nbformat_minor": 0,
  "metadata": {
    "colab": {
      "name": "03-exploracion.ipynb",
      "provenance": [],
      "collapsed_sections": [],
      "include_colab_link": true
    },
    "kernelspec": {
      "name": "python3",
      "display_name": "Python 3"
    }
  },
  "cells": [
    {
      "cell_type": "markdown",
      "metadata": {
        "id": "view-in-github",
        "colab_type": "text"
      },
      "source": [
        "<a href=\"https://colab.research.google.com/github/jballesterosc/hacking-civico/blob/master/tareas/03_exploracion.ipynb\" target=\"_parent\"><img src=\"https://colab.research.google.com/assets/colab-badge.svg\" alt=\"Open In Colab\"/></a>"
      ]
    },
    {
      "cell_type": "code",
      "metadata": {
        "id": "yPNA6QJjqFZg",
        "colab_type": "code",
        "colab": {
          "base_uri": "https://localhost:8080/",
          "height": 544
        },
        "outputId": "a3e73ed5-df66-4fa4-c7e3-fb96eaded89b"
      },
      "source": [
        "# Para descargar el conjunto de datos\n",
        "!wget http://datosabiertos.salud.gob.mx/gobmx/salud/datos_abiertos/datos_abiertos_covid19.zip\n",
        "\n",
        "# Para descargar el diccionario de los datos\n",
        "!wget http://epidemiologia.salud.gob.mx/gobmx/salud/datos_abiertos/diccionario_datos_covid19.zip\n",
        "\n",
        "# Descomprimimos ambas carpetas y movemos archivos\n",
        "!unzip datos_abiertos_covid19.zip\n",
        "!unzip diccionario_datos_covid19.zip\n",
        "!mv ./diccionario_datos_covid19/*.xlsx .\n",
        "!mv *COVID19MEXICO.csv COVID19MEXICO.csv\n",
        "\n",
        "# Eliminamos las carpetas comprimidas\n",
        "!rm -rf diccionario_datos_covid19\n",
        "!rm datos_abiertos_covid19.zip\n",
        "!rm diccionario_datos_covid19.zip"
      ],
      "execution_count": 1,
      "outputs": [
        {
          "output_type": "stream",
          "text": [
            "--2020-09-14 04:43:34--  http://datosabiertos.salud.gob.mx/gobmx/salud/datos_abiertos/datos_abiertos_covid19.zip\n",
            "Resolving datosabiertos.salud.gob.mx (datosabiertos.salud.gob.mx)... 187.210.186.146\n",
            "Connecting to datosabiertos.salud.gob.mx (datosabiertos.salud.gob.mx)|187.210.186.146|:80... connected.\n",
            "HTTP request sent, awaiting response... 200 OK\n",
            "Length: 32082132 (31M) [application/x-zip-compressed]\n",
            "Saving to: ‘datos_abiertos_covid19.zip’\n",
            "\n",
            "datos_abiertos_covi 100%[===================>]  30.60M  22.7MB/s    in 1.3s    \n",
            "\n",
            "2020-09-14 04:43:35 (22.7 MB/s) - ‘datos_abiertos_covid19.zip’ saved [32082132/32082132]\n",
            "\n",
            "--2020-09-14 04:43:35--  http://epidemiologia.salud.gob.mx/gobmx/salud/datos_abiertos/diccionario_datos_covid19.zip\n",
            "Resolving epidemiologia.salud.gob.mx (epidemiologia.salud.gob.mx)... 187.191.75.207\n",
            "Connecting to epidemiologia.salud.gob.mx (epidemiologia.salud.gob.mx)|187.191.75.207|:80... connected.\n",
            "HTTP request sent, awaiting response... 301 Moved Permanently\n",
            "Location: https://epidemiologia.salud.gob.mx/gobmx/salud/datos_abiertos/diccionario_datos_covid19.zip [following]\n",
            "--2020-09-14 04:43:35--  https://epidemiologia.salud.gob.mx/gobmx/salud/datos_abiertos/diccionario_datos_covid19.zip\n",
            "Connecting to epidemiologia.salud.gob.mx (epidemiologia.salud.gob.mx)|187.191.75.207|:443... connected.\n",
            "HTTP request sent, awaiting response... 200 OK\n",
            "Length: 81416 (80K) [application/x-zip-compressed]\n",
            "Saving to: ‘diccionario_datos_covid19.zip’\n",
            "\n",
            "diccionario_datos_c 100%[===================>]  79.51K  --.-KB/s    in 0.05s   \n",
            "\n",
            "2020-09-14 04:43:36 (1.49 MB/s) - ‘diccionario_datos_covid19.zip’ saved [81416/81416]\n",
            "\n",
            "Archive:  datos_abiertos_covid19.zip\n",
            "  inflating: 200913COVID19MEXICO.csv  \n",
            "Archive:  diccionario_datos_covid19.zip\n",
            "  inflating: diccionario_datos_covid19/Catalogos_0412.xlsx  \n",
            "  inflating: diccionario_datos_covid19/Descriptores_0419.xlsx  \n"
          ],
          "name": "stdout"
        }
      ]
    },
    {
      "cell_type": "code",
      "metadata": {
        "id": "M09sjPpIYLOZ",
        "colab_type": "code",
        "colab": {}
      },
      "source": [
        "import statistics\n",
        "\n",
        "import pandas as pd\n",
        "import numpy as np"
      ],
      "execution_count": 2,
      "outputs": []
    },
    {
      "cell_type": "code",
      "metadata": {
        "id": "LzZRHpnclPvj",
        "colab_type": "code",
        "colab": {}
      },
      "source": [
        "# Especificamos el nombre del archivo por abrir\n",
        "nombre_archivo = 'COVID19MEXICO.csv'\n",
        "\n",
        "# Utilizamos la función de Pandas para cargar un archivo CSV\n",
        "data = pd.read_csv(nombre_archivo, encoding='latin-1')"
      ],
      "execution_count": 3,
      "outputs": []
    },
    {
      "cell_type": "code",
      "metadata": {
        "id": "gO6XRvTcltp0",
        "colab_type": "code",
        "colab": {}
      },
      "source": [
        "nombre_diccionario = 'Descriptores_0419.xlsx'\n",
        "diccionario = pd.read_excel(nombre_diccionario)"
      ],
      "execution_count": 5,
      "outputs": []
    },
    {
      "cell_type": "code",
      "metadata": {
        "id": "LeK0_2pjog0Z",
        "colab_type": "code",
        "colab": {}
      },
      "source": [
        "nombre_cat = 'Catalogos_0412.xlsx'\n",
        "sheets = ['ORIGEN', 'SECTOR', 'SEXO', 'TIPO_PACIENTE', 'SI_NO', 'NACIONALIDAD', 'RESULTADO', 'de ENTIDADES', 'MUNICIPIOS']\n",
        "catalogues = {}\n",
        "for sheet in sheets:\n",
        "  catalogue = pd.read_excel(nombre_cat, sheet_name='Catálogo ' + sheet)\n",
        "  catalogue.columns = catalogue.columns.str.replace(' ', '_')\n",
        "  catalogue.columns = catalogue.columns.str.replace('.', '')\n",
        "  catalogue.columns = catalogue.columns.str.lower()\n",
        "  new_catalogue = {sheet: catalogue}\n",
        "  catalogues.update(new_catalogue)"
      ],
      "execution_count": 6,
      "outputs": []
    },
    {
      "cell_type": "markdown",
      "metadata": {
        "id": "k7GdBenHYvEP",
        "colab_type": "text"
      },
      "source": [
        "##Perfilamiento"
      ]
    },
    {
      "cell_type": "markdown",
      "metadata": {
        "id": "wNIz4rIPthlT",
        "colab_type": "text"
      },
      "source": [
        "###Descripción General"
      ]
    },
    {
      "cell_type": "code",
      "metadata": {
        "id": "8Z0yG6NpYuQf",
        "colab_type": "code",
        "colab": {
          "base_uri": "https://localhost:8080/",
          "height": 51
        },
        "outputId": "cf62b2a7-148c-41fa-ecb1-6d3ab9444cbf"
      },
      "source": [
        "# dimensión de los datos\n",
        "print('Número de filas: {}'.format(data.shape[0]))\n",
        "print('Número de columnas: {}'.format(data.shape[1]))"
      ],
      "execution_count": 8,
      "outputs": [
        {
          "output_type": "stream",
          "text": [
            "Número de filas: 1516588\n",
            "Número de columnas: 35\n"
          ],
          "name": "stdout"
        }
      ]
    },
    {
      "cell_type": "code",
      "metadata": {
        "id": "VQ2HbSGq2R9N",
        "colab_type": "code",
        "colab": {}
      },
      "source": [
        "# limpieza del nombre de las columnas, remover espacios, carácteres especiales y pasar a minúsculas\n",
        "data.columns = data.columns.str.replace(' ', '_')\n",
        "data.columns = data.columns.str.replace('.', '')\n",
        "data.columns = data.columns.str.lower()"
      ],
      "execution_count": 11,
      "outputs": []
    },
    {
      "cell_type": "code",
      "metadata": {
        "id": "hrkEFAj-AE9r",
        "colab_type": "code",
        "colab": {
          "base_uri": "https://localhost:8080/",
          "height": 612
        },
        "outputId": "73e82c1e-1262-4785-b7cd-f5acf2fa8868"
      },
      "source": [
        "# calcular número de valores nulos por columna\n",
        "for col in data.columns:\n",
        "  print('Valores nulos en \"{}\": {}'.format(col,data[col].isna().sum()))"
      ],
      "execution_count": 12,
      "outputs": [
        {
          "output_type": "stream",
          "text": [
            "Valores nulos en \"fecha_actualizacion\": 0\n",
            "Valores nulos en \"id_registro\": 0\n",
            "Valores nulos en \"origen\": 0\n",
            "Valores nulos en \"sector\": 0\n",
            "Valores nulos en \"entidad_um\": 0\n",
            "Valores nulos en \"sexo\": 0\n",
            "Valores nulos en \"entidad_nac\": 0\n",
            "Valores nulos en \"entidad_res\": 0\n",
            "Valores nulos en \"municipio_res\": 0\n",
            "Valores nulos en \"tipo_paciente\": 0\n",
            "Valores nulos en \"fecha_ingreso\": 0\n",
            "Valores nulos en \"fecha_sintomas\": 0\n",
            "Valores nulos en \"fecha_def\": 0\n",
            "Valores nulos en \"intubado\": 0\n",
            "Valores nulos en \"neumonia\": 0\n",
            "Valores nulos en \"edad\": 0\n",
            "Valores nulos en \"nacionalidad\": 0\n",
            "Valores nulos en \"embarazo\": 0\n",
            "Valores nulos en \"habla_lengua_indig\": 0\n",
            "Valores nulos en \"diabetes\": 0\n",
            "Valores nulos en \"epoc\": 0\n",
            "Valores nulos en \"asma\": 0\n",
            "Valores nulos en \"inmusupr\": 0\n",
            "Valores nulos en \"hipertension\": 0\n",
            "Valores nulos en \"otra_com\": 0\n",
            "Valores nulos en \"cardiovascular\": 0\n",
            "Valores nulos en \"obesidad\": 0\n",
            "Valores nulos en \"renal_cronica\": 0\n",
            "Valores nulos en \"tabaquismo\": 0\n",
            "Valores nulos en \"otro_caso\": 0\n",
            "Valores nulos en \"resultado\": 0\n",
            "Valores nulos en \"migrante\": 0\n",
            "Valores nulos en \"pais_nacionalidad\": 0\n",
            "Valores nulos en \"pais_origen\": 0\n",
            "Valores nulos en \"uci\": 0\n"
          ],
          "name": "stdout"
        }
      ]
    },
    {
      "cell_type": "markdown",
      "metadata": {
        "id": "7ckFUUobuRH2",
        "colab_type": "text"
      },
      "source": [
        "###Limpieza"
      ]
    },
    {
      "cell_type": "code",
      "metadata": {
        "id": "4ISn-U85uWLn",
        "colab_type": "code",
        "colab": {}
      },
      "source": [
        "# convertimos a fecha algunas columnas\n",
        "def cast_datetime_cols(df):\n",
        "    timestamp_cols = [col for col in df.columns if \"fecha\" in col]\n",
        "    df[timestamp_cols] = df[timestamp_cols].apply(lambda date_col: pd.to_datetime(date_col, errors=\"coerce\"), axis=0)\n",
        "    return df\n",
        "\n",
        "data = cast_datetime_cols(data)"
      ],
      "execution_count": 13,
      "outputs": []
    },
    {
      "cell_type": "code",
      "metadata": {
        "id": "D8KhfZhKu9wf",
        "colab_type": "code",
        "colab": {
          "base_uri": "https://localhost:8080/",
          "height": 375
        },
        "outputId": "b9a382d2-315c-4647-c3b1-4cb57a7a2588"
      },
      "source": [
        "# unimos los datos con los catalogos para tener mejor entendimiento de ellos\n",
        "data = (\n",
        "    # unimos con el catálogo MUNICIPIOS y ENTIDADES\n",
        "    data.merge(catalogues['de ENTIDADES'], how='left', left_on='entidad_res', right_on='clave_entidad').\n",
        "    drop(columns=['entidad_res', 'abreviatura']).\n",
        "    rename(columns={'entidad_federativa':'entidad_res'}).\n",
        "    merge(catalogues['MUNICIPIOS'], how='left', left_on=['clave_entidad','municipio_res'], right_on=['clave_entidad','clave_municipio']).\n",
        "    drop(columns=['municipio_res', 'clave_entidad', 'clave_municipio']).\n",
        "    rename(columns={'municipio':'municipio_res'})\n",
        ")"
      ],
      "execution_count": 16,
      "outputs": [
        {
          "output_type": "error",
          "ename": "ValueError",
          "evalue": "ignored",
          "traceback": [
            "\u001b[0;31m---------------------------------------------------------------------------\u001b[0m",
            "\u001b[0;31mValueError\u001b[0m                                Traceback (most recent call last)",
            "\u001b[0;32m<ipython-input-16-6f2f807d8b2d>\u001b[0m in \u001b[0;36m<module>\u001b[0;34m()\u001b[0m\n\u001b[1;32m      2\u001b[0m data = (\n\u001b[1;32m      3\u001b[0m     \u001b[0;31m# unimos con el catálogo MUNICIPIOS y ENTIDADES\u001b[0m\u001b[0;34m\u001b[0m\u001b[0;34m\u001b[0m\u001b[0;34m\u001b[0m\u001b[0m\n\u001b[0;32m----> 4\u001b[0;31m     \u001b[0mdata\u001b[0m\u001b[0;34m.\u001b[0m\u001b[0mmerge\u001b[0m\u001b[0;34m(\u001b[0m\u001b[0mcatalogues\u001b[0m\u001b[0;34m[\u001b[0m\u001b[0;34m'de ENTIDADES'\u001b[0m\u001b[0;34m]\u001b[0m\u001b[0;34m,\u001b[0m \u001b[0mhow\u001b[0m\u001b[0;34m=\u001b[0m\u001b[0;34m'left'\u001b[0m\u001b[0;34m,\u001b[0m \u001b[0mleft_on\u001b[0m\u001b[0;34m=\u001b[0m\u001b[0;34m'entidad_res'\u001b[0m\u001b[0;34m,\u001b[0m \u001b[0mright_on\u001b[0m\u001b[0;34m=\u001b[0m\u001b[0;34m'clave_entidad'\u001b[0m\u001b[0;34m)\u001b[0m\u001b[0;34m.\u001b[0m\u001b[0;34m\u001b[0m\u001b[0;34m\u001b[0m\u001b[0m\n\u001b[0m\u001b[1;32m      5\u001b[0m     \u001b[0mdrop\u001b[0m\u001b[0;34m(\u001b[0m\u001b[0mcolumns\u001b[0m\u001b[0;34m=\u001b[0m\u001b[0;34m[\u001b[0m\u001b[0;34m'entidad_res'\u001b[0m\u001b[0;34m,\u001b[0m \u001b[0;34m'abreviatura'\u001b[0m\u001b[0;34m]\u001b[0m\u001b[0;34m)\u001b[0m\u001b[0;34m.\u001b[0m\u001b[0;34m\u001b[0m\u001b[0;34m\u001b[0m\u001b[0m\n\u001b[1;32m      6\u001b[0m     \u001b[0mrename\u001b[0m\u001b[0;34m(\u001b[0m\u001b[0mcolumns\u001b[0m\u001b[0;34m=\u001b[0m\u001b[0;34m{\u001b[0m\u001b[0;34m'entidad_federativa'\u001b[0m\u001b[0;34m:\u001b[0m\u001b[0;34m'entidad_res'\u001b[0m\u001b[0;34m}\u001b[0m\u001b[0;34m)\u001b[0m\u001b[0;34m.\u001b[0m\u001b[0;34m\u001b[0m\u001b[0;34m\u001b[0m\u001b[0m\n",
            "\u001b[0;32m/usr/local/lib/python3.6/dist-packages/pandas/core/frame.py\u001b[0m in \u001b[0;36mmerge\u001b[0;34m(self, right, how, on, left_on, right_on, left_index, right_index, sort, suffixes, copy, indicator, validate)\u001b[0m\n\u001b[1;32m   7295\u001b[0m             \u001b[0mcopy\u001b[0m\u001b[0;34m=\u001b[0m\u001b[0mcopy\u001b[0m\u001b[0;34m,\u001b[0m\u001b[0;34m\u001b[0m\u001b[0;34m\u001b[0m\u001b[0m\n\u001b[1;32m   7296\u001b[0m             \u001b[0mindicator\u001b[0m\u001b[0;34m=\u001b[0m\u001b[0mindicator\u001b[0m\u001b[0;34m,\u001b[0m\u001b[0;34m\u001b[0m\u001b[0;34m\u001b[0m\u001b[0m\n\u001b[0;32m-> 7297\u001b[0;31m             \u001b[0mvalidate\u001b[0m\u001b[0;34m=\u001b[0m\u001b[0mvalidate\u001b[0m\u001b[0;34m,\u001b[0m\u001b[0;34m\u001b[0m\u001b[0;34m\u001b[0m\u001b[0m\n\u001b[0m\u001b[1;32m   7298\u001b[0m         )\n\u001b[1;32m   7299\u001b[0m \u001b[0;34m\u001b[0m\u001b[0m\n",
            "\u001b[0;32m/usr/local/lib/python3.6/dist-packages/pandas/core/reshape/merge.py\u001b[0m in \u001b[0;36mmerge\u001b[0;34m(left, right, how, on, left_on, right_on, left_index, right_index, sort, suffixes, copy, indicator, validate)\u001b[0m\n\u001b[1;32m     84\u001b[0m         \u001b[0mcopy\u001b[0m\u001b[0;34m=\u001b[0m\u001b[0mcopy\u001b[0m\u001b[0;34m,\u001b[0m\u001b[0;34m\u001b[0m\u001b[0;34m\u001b[0m\u001b[0m\n\u001b[1;32m     85\u001b[0m         \u001b[0mindicator\u001b[0m\u001b[0;34m=\u001b[0m\u001b[0mindicator\u001b[0m\u001b[0;34m,\u001b[0m\u001b[0;34m\u001b[0m\u001b[0;34m\u001b[0m\u001b[0m\n\u001b[0;32m---> 86\u001b[0;31m         \u001b[0mvalidate\u001b[0m\u001b[0;34m=\u001b[0m\u001b[0mvalidate\u001b[0m\u001b[0;34m,\u001b[0m\u001b[0;34m\u001b[0m\u001b[0;34m\u001b[0m\u001b[0m\n\u001b[0m\u001b[1;32m     87\u001b[0m     )\n\u001b[1;32m     88\u001b[0m     \u001b[0;32mreturn\u001b[0m \u001b[0mop\u001b[0m\u001b[0;34m.\u001b[0m\u001b[0mget_result\u001b[0m\u001b[0;34m(\u001b[0m\u001b[0;34m)\u001b[0m\u001b[0;34m\u001b[0m\u001b[0;34m\u001b[0m\u001b[0m\n",
            "\u001b[0;32m/usr/local/lib/python3.6/dist-packages/pandas/core/reshape/merge.py\u001b[0m in \u001b[0;36m__init__\u001b[0;34m(self, left, right, how, on, left_on, right_on, axis, left_index, right_index, sort, suffixes, copy, indicator, validate)\u001b[0m\n\u001b[1;32m    629\u001b[0m         \u001b[0;31m# validate the merge keys dtypes. We may need to coerce\u001b[0m\u001b[0;34m\u001b[0m\u001b[0;34m\u001b[0m\u001b[0;34m\u001b[0m\u001b[0m\n\u001b[1;32m    630\u001b[0m         \u001b[0;31m# to avoid incompat dtypes\u001b[0m\u001b[0;34m\u001b[0m\u001b[0;34m\u001b[0m\u001b[0;34m\u001b[0m\u001b[0m\n\u001b[0;32m--> 631\u001b[0;31m         \u001b[0mself\u001b[0m\u001b[0;34m.\u001b[0m\u001b[0m_maybe_coerce_merge_keys\u001b[0m\u001b[0;34m(\u001b[0m\u001b[0;34m)\u001b[0m\u001b[0;34m\u001b[0m\u001b[0;34m\u001b[0m\u001b[0m\n\u001b[0m\u001b[1;32m    632\u001b[0m \u001b[0;34m\u001b[0m\u001b[0m\n\u001b[1;32m    633\u001b[0m         \u001b[0;31m# If argument passed to validate,\u001b[0m\u001b[0;34m\u001b[0m\u001b[0;34m\u001b[0m\u001b[0;34m\u001b[0m\u001b[0m\n",
            "\u001b[0;32m/usr/local/lib/python3.6/dist-packages/pandas/core/reshape/merge.py\u001b[0m in \u001b[0;36m_maybe_coerce_merge_keys\u001b[0;34m(self)\u001b[0m\n\u001b[1;32m   1144\u001b[0m                     \u001b[0minferred_right\u001b[0m \u001b[0;32min\u001b[0m \u001b[0mstring_types\u001b[0m \u001b[0;32mand\u001b[0m \u001b[0minferred_left\u001b[0m \u001b[0;32mnot\u001b[0m \u001b[0;32min\u001b[0m \u001b[0mstring_types\u001b[0m\u001b[0;34m\u001b[0m\u001b[0;34m\u001b[0m\u001b[0m\n\u001b[1;32m   1145\u001b[0m                 ):\n\u001b[0;32m-> 1146\u001b[0;31m                     \u001b[0;32mraise\u001b[0m \u001b[0mValueError\u001b[0m\u001b[0;34m(\u001b[0m\u001b[0mmsg\u001b[0m\u001b[0;34m)\u001b[0m\u001b[0;34m\u001b[0m\u001b[0;34m\u001b[0m\u001b[0m\n\u001b[0m\u001b[1;32m   1147\u001b[0m \u001b[0;34m\u001b[0m\u001b[0m\n\u001b[1;32m   1148\u001b[0m             \u001b[0;31m# datetimelikes must match exactly\u001b[0m\u001b[0;34m\u001b[0m\u001b[0;34m\u001b[0m\u001b[0;34m\u001b[0m\u001b[0m\n",
            "\u001b[0;31mValueError\u001b[0m: You are trying to merge on object and int64 columns. If you wish to proceed you should use pd.concat"
          ]
        }
      ]
    },
    {
      "cell_type": "code",
      "metadata": {
        "id": "BrRuJFZZCVdt",
        "colab_type": "code",
        "colab": {}
      },
      "source": [
        "# unimos con el catálogo de ENTIDADES\n",
        "entidades_cols = [col for col in data.columns if \"entidad\" in col and col != 'entidad_res']\n",
        "for col in entidades_cols:\n",
        "    data = (\n",
        "        data.merge(catalogues['de ENTIDADES'], how='left', left_on=col, right_on='clave_entidad').\n",
        "        drop(columns=[col, 'abreviatura', 'clave_entidad']).\n",
        "        rename(columns={'entidad_federativa':col})\n",
        "    )"
      ],
      "execution_count": 17,
      "outputs": []
    },
    {
      "cell_type": "code",
      "metadata": {
        "id": "lc4J3ufC9z7c",
        "colab_type": "code",
        "colab": {}
      },
      "source": [
        "# unimos con el catálogo SI_NO\n",
        "sino_cols = ['intubado', 'neumonia', 'embarazo', 'habla_lengua_indig', 'diabetes', 'epoc', 'asma', 'inmusupr',\n",
        "             'hipertension', 'otra_com', 'cardiovascular', 'obesidad', 'renal_cronica', 'tabaquismo', \n",
        "             'otro_caso', 'migrante', 'uci']\n",
        "for col in sino_cols:\n",
        "    data = (\n",
        "        data.merge(catalogues['SI_NO'], how='left', left_on=col, right_on='clave').\n",
        "        drop(columns=[col, 'clave']).\n",
        "        rename(columns={'descripción':col})\n",
        "    )"
      ],
      "execution_count": 18,
      "outputs": []
    },
    {
      "cell_type": "code",
      "metadata": {
        "id": "H2qOV3QGi6pp",
        "colab_type": "code",
        "colab": {
          "base_uri": "https://localhost:8080/",
          "height": 34
        },
        "outputId": "10053cdb-01cf-42ef-aa8f-d43d0cf08e49"
      },
      "source": [
        "catalogues['RESULTADO'].columns"
      ],
      "execution_count": 19,
      "outputs": [
        {
          "output_type": "execute_result",
          "data": {
            "text/plain": [
              "Index(['unnamed:_0', 'unnamed:_1'], dtype='object')"
            ]
          },
          "metadata": {
            "tags": []
          },
          "execution_count": 19
        }
      ]
    },
    {
      "cell_type": "code",
      "metadata": {
        "id": "5SRGGO_QhgAr",
        "colab_type": "code",
        "colab": {
          "base_uri": "https://localhost:8080/",
          "height": 34
        },
        "outputId": "8683df08-dfda-46bd-a431-53712c7293d5"
      },
      "source": [
        "catalogues['RESULTADO'].columns = ['clave', 'descripción']\n",
        "catalogues['RESULTADO'].columns"
      ],
      "execution_count": 21,
      "outputs": [
        {
          "output_type": "execute_result",
          "data": {
            "text/plain": [
              "Index(['clave', 'descripción'], dtype='object')"
            ]
          },
          "metadata": {
            "tags": []
          },
          "execution_count": 21
        }
      ]
    },
    {
      "cell_type": "code",
      "metadata": {
        "id": "OexEfsUnjRMp",
        "colab_type": "code",
        "colab": {
          "base_uri": "https://localhost:8080/",
          "height": 307
        },
        "outputId": "d1de8ef3-75b7-4aea-f0f7-7760cff93636"
      },
      "source": [
        "catalogues['RESULTADO'] = catalogues['RESULTADO'].drop(index=0)"
      ],
      "execution_count": 23,
      "outputs": [
        {
          "output_type": "error",
          "ename": "KeyError",
          "evalue": "ignored",
          "traceback": [
            "\u001b[0;31m---------------------------------------------------------------------------\u001b[0m",
            "\u001b[0;31mKeyError\u001b[0m                                  Traceback (most recent call last)",
            "\u001b[0;32m<ipython-input-23-1bf6324a28f5>\u001b[0m in \u001b[0;36m<module>\u001b[0;34m()\u001b[0m\n\u001b[0;32m----> 1\u001b[0;31m \u001b[0mcatalogues\u001b[0m\u001b[0;34m[\u001b[0m\u001b[0;34m'RESULTADO'\u001b[0m\u001b[0;34m]\u001b[0m \u001b[0;34m=\u001b[0m \u001b[0mcatalogues\u001b[0m\u001b[0;34m[\u001b[0m\u001b[0;34m'RESULTADO'\u001b[0m\u001b[0;34m]\u001b[0m\u001b[0;34m.\u001b[0m\u001b[0mdrop\u001b[0m\u001b[0;34m(\u001b[0m\u001b[0mindex\u001b[0m\u001b[0;34m=\u001b[0m\u001b[0;36m0\u001b[0m\u001b[0;34m)\u001b[0m\u001b[0;34m\u001b[0m\u001b[0;34m\u001b[0m\u001b[0m\n\u001b[0m",
            "\u001b[0;32m/usr/local/lib/python3.6/dist-packages/pandas/core/frame.py\u001b[0m in \u001b[0;36mdrop\u001b[0;34m(self, labels, axis, index, columns, level, inplace, errors)\u001b[0m\n\u001b[1;32m   3995\u001b[0m             \u001b[0mlevel\u001b[0m\u001b[0;34m=\u001b[0m\u001b[0mlevel\u001b[0m\u001b[0;34m,\u001b[0m\u001b[0;34m\u001b[0m\u001b[0;34m\u001b[0m\u001b[0m\n\u001b[1;32m   3996\u001b[0m             \u001b[0minplace\u001b[0m\u001b[0;34m=\u001b[0m\u001b[0minplace\u001b[0m\u001b[0;34m,\u001b[0m\u001b[0;34m\u001b[0m\u001b[0;34m\u001b[0m\u001b[0m\n\u001b[0;32m-> 3997\u001b[0;31m             \u001b[0merrors\u001b[0m\u001b[0;34m=\u001b[0m\u001b[0merrors\u001b[0m\u001b[0;34m,\u001b[0m\u001b[0;34m\u001b[0m\u001b[0;34m\u001b[0m\u001b[0m\n\u001b[0m\u001b[1;32m   3998\u001b[0m         )\n\u001b[1;32m   3999\u001b[0m \u001b[0;34m\u001b[0m\u001b[0m\n",
            "\u001b[0;32m/usr/local/lib/python3.6/dist-packages/pandas/core/generic.py\u001b[0m in \u001b[0;36mdrop\u001b[0;34m(self, labels, axis, index, columns, level, inplace, errors)\u001b[0m\n\u001b[1;32m   3934\u001b[0m         \u001b[0;32mfor\u001b[0m \u001b[0maxis\u001b[0m\u001b[0;34m,\u001b[0m \u001b[0mlabels\u001b[0m \u001b[0;32min\u001b[0m \u001b[0maxes\u001b[0m\u001b[0;34m.\u001b[0m\u001b[0mitems\u001b[0m\u001b[0;34m(\u001b[0m\u001b[0;34m)\u001b[0m\u001b[0;34m:\u001b[0m\u001b[0;34m\u001b[0m\u001b[0;34m\u001b[0m\u001b[0m\n\u001b[1;32m   3935\u001b[0m             \u001b[0;32mif\u001b[0m \u001b[0mlabels\u001b[0m \u001b[0;32mis\u001b[0m \u001b[0;32mnot\u001b[0m \u001b[0;32mNone\u001b[0m\u001b[0;34m:\u001b[0m\u001b[0;34m\u001b[0m\u001b[0;34m\u001b[0m\u001b[0m\n\u001b[0;32m-> 3936\u001b[0;31m                 \u001b[0mobj\u001b[0m \u001b[0;34m=\u001b[0m \u001b[0mobj\u001b[0m\u001b[0;34m.\u001b[0m\u001b[0m_drop_axis\u001b[0m\u001b[0;34m(\u001b[0m\u001b[0mlabels\u001b[0m\u001b[0;34m,\u001b[0m \u001b[0maxis\u001b[0m\u001b[0;34m,\u001b[0m \u001b[0mlevel\u001b[0m\u001b[0;34m=\u001b[0m\u001b[0mlevel\u001b[0m\u001b[0;34m,\u001b[0m \u001b[0merrors\u001b[0m\u001b[0;34m=\u001b[0m\u001b[0merrors\u001b[0m\u001b[0;34m)\u001b[0m\u001b[0;34m\u001b[0m\u001b[0;34m\u001b[0m\u001b[0m\n\u001b[0m\u001b[1;32m   3937\u001b[0m \u001b[0;34m\u001b[0m\u001b[0m\n\u001b[1;32m   3938\u001b[0m         \u001b[0;32mif\u001b[0m \u001b[0minplace\u001b[0m\u001b[0;34m:\u001b[0m\u001b[0;34m\u001b[0m\u001b[0;34m\u001b[0m\u001b[0m\n",
            "\u001b[0;32m/usr/local/lib/python3.6/dist-packages/pandas/core/generic.py\u001b[0m in \u001b[0;36m_drop_axis\u001b[0;34m(self, labels, axis, level, errors)\u001b[0m\n\u001b[1;32m   3968\u001b[0m                 \u001b[0mnew_axis\u001b[0m \u001b[0;34m=\u001b[0m \u001b[0maxis\u001b[0m\u001b[0;34m.\u001b[0m\u001b[0mdrop\u001b[0m\u001b[0;34m(\u001b[0m\u001b[0mlabels\u001b[0m\u001b[0;34m,\u001b[0m \u001b[0mlevel\u001b[0m\u001b[0;34m=\u001b[0m\u001b[0mlevel\u001b[0m\u001b[0;34m,\u001b[0m \u001b[0merrors\u001b[0m\u001b[0;34m=\u001b[0m\u001b[0merrors\u001b[0m\u001b[0;34m)\u001b[0m\u001b[0;34m\u001b[0m\u001b[0;34m\u001b[0m\u001b[0m\n\u001b[1;32m   3969\u001b[0m             \u001b[0;32melse\u001b[0m\u001b[0;34m:\u001b[0m\u001b[0;34m\u001b[0m\u001b[0;34m\u001b[0m\u001b[0m\n\u001b[0;32m-> 3970\u001b[0;31m                 \u001b[0mnew_axis\u001b[0m \u001b[0;34m=\u001b[0m \u001b[0maxis\u001b[0m\u001b[0;34m.\u001b[0m\u001b[0mdrop\u001b[0m\u001b[0;34m(\u001b[0m\u001b[0mlabels\u001b[0m\u001b[0;34m,\u001b[0m \u001b[0merrors\u001b[0m\u001b[0;34m=\u001b[0m\u001b[0merrors\u001b[0m\u001b[0;34m)\u001b[0m\u001b[0;34m\u001b[0m\u001b[0;34m\u001b[0m\u001b[0m\n\u001b[0m\u001b[1;32m   3971\u001b[0m             \u001b[0mresult\u001b[0m \u001b[0;34m=\u001b[0m \u001b[0mself\u001b[0m\u001b[0;34m.\u001b[0m\u001b[0mreindex\u001b[0m\u001b[0;34m(\u001b[0m\u001b[0;34m**\u001b[0m\u001b[0;34m{\u001b[0m\u001b[0maxis_name\u001b[0m\u001b[0;34m:\u001b[0m \u001b[0mnew_axis\u001b[0m\u001b[0;34m}\u001b[0m\u001b[0;34m)\u001b[0m\u001b[0;34m\u001b[0m\u001b[0;34m\u001b[0m\u001b[0m\n\u001b[1;32m   3972\u001b[0m \u001b[0;34m\u001b[0m\u001b[0m\n",
            "\u001b[0;32m/usr/local/lib/python3.6/dist-packages/pandas/core/indexes/base.py\u001b[0m in \u001b[0;36mdrop\u001b[0;34m(self, labels, errors)\u001b[0m\n\u001b[1;32m   5016\u001b[0m         \u001b[0;32mif\u001b[0m \u001b[0mmask\u001b[0m\u001b[0;34m.\u001b[0m\u001b[0many\u001b[0m\u001b[0;34m(\u001b[0m\u001b[0;34m)\u001b[0m\u001b[0;34m:\u001b[0m\u001b[0;34m\u001b[0m\u001b[0;34m\u001b[0m\u001b[0m\n\u001b[1;32m   5017\u001b[0m             \u001b[0;32mif\u001b[0m \u001b[0merrors\u001b[0m \u001b[0;34m!=\u001b[0m \u001b[0;34m\"ignore\"\u001b[0m\u001b[0;34m:\u001b[0m\u001b[0;34m\u001b[0m\u001b[0;34m\u001b[0m\u001b[0m\n\u001b[0;32m-> 5018\u001b[0;31m                 \u001b[0;32mraise\u001b[0m \u001b[0mKeyError\u001b[0m\u001b[0;34m(\u001b[0m\u001b[0;34mf\"{labels[mask]} not found in axis\"\u001b[0m\u001b[0;34m)\u001b[0m\u001b[0;34m\u001b[0m\u001b[0;34m\u001b[0m\u001b[0m\n\u001b[0m\u001b[1;32m   5019\u001b[0m             \u001b[0mindexer\u001b[0m \u001b[0;34m=\u001b[0m \u001b[0mindexer\u001b[0m\u001b[0;34m[\u001b[0m\u001b[0;34m~\u001b[0m\u001b[0mmask\u001b[0m\u001b[0;34m]\u001b[0m\u001b[0;34m\u001b[0m\u001b[0;34m\u001b[0m\u001b[0m\n\u001b[1;32m   5020\u001b[0m         \u001b[0;32mreturn\u001b[0m \u001b[0mself\u001b[0m\u001b[0;34m.\u001b[0m\u001b[0mdelete\u001b[0m\u001b[0;34m(\u001b[0m\u001b[0mindexer\u001b[0m\u001b[0;34m)\u001b[0m\u001b[0;34m\u001b[0m\u001b[0;34m\u001b[0m\u001b[0m\n",
            "\u001b[0;31mKeyError\u001b[0m: '[0] not found in axis'"
          ]
        }
      ]
    },
    {
      "cell_type": "code",
      "metadata": {
        "id": "AyLbq461kDX_",
        "colab_type": "code",
        "colab": {}
      },
      "source": [
        "catalogues['RESULTADO']['clave'] = catalogues['RESULTADO']['clave'].astype(int)"
      ],
      "execution_count": 24,
      "outputs": []
    },
    {
      "cell_type": "code",
      "metadata": {
        "id": "sTqV6pDE9x0Y",
        "colab_type": "code",
        "colab": {}
      },
      "source": [
        "# unimos otras columnnas que comparten lógica\n",
        "other_cols = ['origen', 'sector', 'sexo', 'tipo_paciente', 'nacionalidad', 'resultado']\n",
        "for col, cat in zip(other_cols, [x.upper() for x in other_cols]):\n",
        "    data = (\n",
        "        data.merge(catalogues[cat], how='left', left_on=col, right_on='clave').\n",
        "        drop(columns=[col, 'clave']).\n",
        "        rename(columns={'descripción':col})\n",
        "    )"
      ],
      "execution_count": 25,
      "outputs": []
    },
    {
      "cell_type": "code",
      "metadata": {
        "id": "ObiPdrg_x4KH",
        "colab_type": "code",
        "colab": {
          "base_uri": "https://localhost:8080/",
          "height": 153
        },
        "outputId": "96286091-4ec8-4cfa-e564-233e44b02881"
      },
      "source": [
        "# riesgo de defunción en pacientes con hipertensión\n",
        "data.groupby('hipertension').defuncion.value_counts(normalize=True)"
      ],
      "execution_count": 28,
      "outputs": [
        {
          "output_type": "execute_result",
          "data": {
            "text/plain": [
              "hipertension  defuncion\n",
              "NO            False        0.960811\n",
              "              True         0.039189\n",
              "SE IGNORA     False        0.872118\n",
              "              True         0.127882\n",
              "SI            False        0.834710\n",
              "              True         0.165290\n",
              "Name: defuncion, dtype: float64"
            ]
          },
          "metadata": {
            "tags": []
          },
          "execution_count": 28
        }
      ]
    },
    {
      "cell_type": "code",
      "metadata": {
        "id": "XrkZyt759Dz_",
        "colab_type": "code",
        "colab": {
          "base_uri": "https://localhost:8080/",
          "height": 578
        },
        "outputId": "76c0ce96-6722-47ac-dc01-01572216fa85"
      },
      "source": [
        "#casos positivos por entidad\n",
        "data.entidad_res.value_counts()"
      ],
      "execution_count": 30,
      "outputs": [
        {
          "output_type": "execute_result",
          "data": {
            "text/plain": [
              "CIUDAD DE MÉXICO                   315299\n",
              "MÉXICO                             185609\n",
              "GUANAJUATO                          86569\n",
              "NUEVO LEÓN                          78473\n",
              "PUEBLA                              63347\n",
              "TAMAULIPAS                          61704\n",
              "TABASCO                             60139\n",
              "COAHUILA DE ZARAGOZA                58845\n",
              "JALISCO                             58777\n",
              "VERACRUZ DE IGNACIO DE LA LLAVE     49154\n",
              "SAN LUIS POTOSÍ                     45815\n",
              "MICHOACÁN DE OCAMPO                 44079\n",
              "SONORA                              42876\n",
              "YUCATÁN                             31743\n",
              "SINALOA                             31431\n",
              "BAJA CALIFORNIA                     29958\n",
              "GUERRERO                            29135\n",
              "DURANGO                             22561\n",
              "OAXACA                              22151\n",
              "CHIHUAHUA                           21544\n",
              "BAJA CALIFORNIA SUR                 20275\n",
              "HIDALGO                             20029\n",
              "AGUASCALIENTES                      19741\n",
              "TLAXCALA                            19531\n",
              "QUINTANA ROO                        18647\n",
              "ZACATECAS                           13894\n",
              "QUERÉTARO                           13433\n",
              "CAMPECHE                            12037\n",
              "MORELOS                             11786\n",
              "CHIAPAS                             11144\n",
              "NAYARIT                              9543\n",
              "COLIMA                               7319\n",
              "Name: entidad_res, dtype: int64"
            ]
          },
          "metadata": {
            "tags": []
          },
          "execution_count": 30
        }
      ]
    },
    {
      "cell_type": "code",
      "metadata": {
        "id": "JyKi_iOC_2HB",
        "colab_type": "code",
        "colab": {
          "base_uri": "https://localhost:8080/",
          "height": 578
        },
        "outputId": "a9ce68a8-4939-4f32-d071-a4b0761ce630"
      },
      "source": [
        "#defunciones por entidad\n",
        "data[data.defuncion].entidad_res.value_counts()"
      ],
      "execution_count": 31,
      "outputs": [
        {
          "output_type": "execute_result",
          "data": {
            "text/plain": [
              "MÉXICO                             13682\n",
              "CIUDAD DE MÉXICO                   12038\n",
              "VERACRUZ DE IGNACIO DE LA LLAVE     4861\n",
              "PUEBLA                              4636\n",
              "BAJA CALIFORNIA                     4085\n",
              "JALISCO                             3918\n",
              "SINALOA                             3759\n",
              "NUEVO LEÓN                          3558\n",
              "SONORA                              3284\n",
              "GUANAJUATO                          3222\n",
              "TABASCO                             2936\n",
              "TAMAULIPAS                          2858\n",
              "GUERRERO                            2307\n",
              "COAHUILA DE ZARAGOZA                2215\n",
              "HIDALGO                             2095\n",
              "CHIHUAHUA                           2043\n",
              "MICHOACÁN DE OCAMPO                 1937\n",
              "QUINTANA ROO                        1927\n",
              "YUCATÁN                             1822\n",
              "SAN LUIS POTOSÍ                     1790\n",
              "OAXACA                              1624\n",
              "TLAXCALA                            1332\n",
              "MORELOS                             1256\n",
              "CHIAPAS                             1221\n",
              "QUERÉTARO                           1014\n",
              "CAMPECHE                             959\n",
              "NAYARIT                              826\n",
              "ZACATECAS                            776\n",
              "DURANGO                              721\n",
              "AGUASCALIENTES                       605\n",
              "COLIMA                               603\n",
              "BAJA CALIFORNIA SUR                  541\n",
              "Name: entidad_res, dtype: int64"
            ]
          },
          "metadata": {
            "tags": []
          },
          "execution_count": 31
        }
      ]
    },
    {
      "cell_type": "code",
      "metadata": {
        "id": "Mmd7Cp2XBFhJ",
        "colab_type": "code",
        "colab": {
          "base_uri": "https://localhost:8080/",
          "height": 51
        },
        "outputId": "12de88ff-9049-4b1b-a5df-0c5822d4896d"
      },
      "source": [
        "# fallecimientos en CDMX (entidad con mayor número de casos confirmados)\n",
        "data[data.defuncion & (data.entidad_res == \"CIUDAD DE MÉXICO\")].defuncion.value_counts()"
      ],
      "execution_count": 32,
      "outputs": [
        {
          "output_type": "execute_result",
          "data": {
            "text/plain": [
              "True    12038\n",
              "Name: defuncion, dtype: int64"
            ]
          },
          "metadata": {
            "tags": []
          },
          "execution_count": 32
        }
      ]
    },
    {
      "cell_type": "code",
      "metadata": {
        "id": "Ul7ytBjlBM_d",
        "colab_type": "code",
        "colab": {
          "base_uri": "https://localhost:8080/",
          "height": 51
        },
        "outputId": "68cbd002-0e0c-48d0-f18f-e62504c8726e"
      },
      "source": [
        "# fallecimientos de pacientes ambulatorios\n",
        "data[data.defuncion & (data.tipo_paciente == \"AMBULATORIO\")].defuncion.value_counts()"
      ],
      "execution_count": 33,
      "outputs": [
        {
          "output_type": "execute_result",
          "data": {
            "text/plain": [
              "True    9633\n",
              "Name: defuncion, dtype: int64"
            ]
          },
          "metadata": {
            "tags": []
          },
          "execution_count": 33
        }
      ]
    }
  ]
}