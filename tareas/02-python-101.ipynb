{
  "nbformat": 4,
  "nbformat_minor": 0,
  "metadata": {
    "colab": {
      "name": "02-python-101.ipynb",
      "provenance": [],
      "authorship_tag": "ABX9TyMLLksK8lExCYfjvDAYkhAw",
      "include_colab_link": true
    },
    "kernelspec": {
      "name": "python3",
      "display_name": "Python 3"
    }
  },
  "cells": [
    {
      "cell_type": "markdown",
      "metadata": {
        "id": "view-in-github",
        "colab_type": "text"
      },
      "source": [
        "<a href=\"https://colab.research.google.com/github/jballesterosc/hacking-civico/blob/master/tareas/02-python-101.ipynb\" target=\"_parent\"><img src=\"https://colab.research.google.com/assets/colab-badge.svg\" alt=\"Open In Colab\"/></a>"
      ]
    },
    {
      "cell_type": "markdown",
      "metadata": {
        "id": "-BWs4PkSOKn3",
        "colab_type": "text"
      },
      "source": [
        "# Densidad poblacional\n",
        "\n",
        "*`densidad poblacional` = `población`/ `superficie`*\n",
        "\n",
        "## Población: \n",
        " \n",
        "- **México:** `11998347`\n",
        "- **Colima:** `711235`\n",
        "- **Colima Municipio:** `150673`\n",
        "\n",
        "## Superficie\n",
        "\n",
        "- **México:** `1 964 375 km`\n",
        "- **Colima:** `5 696.68 km²`\n",
        "- **Colima Municipio:** `668.2 km²`\n"
      ]
    },
    {
      "cell_type": "code",
      "metadata": {
        "id": "V1gvubcJOI1Q",
        "colab_type": "code",
        "colab": {
          "base_uri": "https://localhost:8080/",
          "height": 88
        },
        "outputId": "4593f954-e9a0-471a-f006-063ddb2c4990"
      },
      "source": [
        "def densidad_poblacional(poblacion, superficie):\n",
        "  densidad_poblacional = poblacion / superficie\n",
        "  return densidad_poblacional\n",
        "\n",
        "poblacion_mexico = 119983473\n",
        "poblacion_colima = 711235\n",
        "poblacion_mcolima = 150673\n",
        "superficie_mexico = 1964375 \n",
        "superficie_colima = 5696.68 \n",
        "superficie_mcolima = 668.2 \n",
        "\n",
        "print(\"Densidad poblacional de México: \", densidad_poblacional(poblacion_mexico,superficie_mexico), \"hab/km²\")\n",
        "print(\"Densidad poblacional del Estado de Colima: \", densidad_poblacional(poblacion_colima,superficie_colima), \"hab/km²\")\n",
        "print(\"Densidad poblacional del municipio de Colima: \", densidad_poblacional(poblacion_mcolima,superficie_mcolima), \"hab/km²\")\n",
        "\n"
      ],
      "execution_count": 1,
      "outputs": [
        {
          "output_type": "stream",
          "text": [
            "Densidad poblacional de México:  61.079718994591154 hab/km²\n",
            "Densidad poblacional del Estado de Colima:  124.85079028486767 hab/km²\n",
            "Densidad poblacional del municipio de Colima:  225.49087099670757 hab/km²\n"
          ],
          "name": "stdout"
        }
      ]
    },
    {
      "cell_type": "markdown",
      "metadata": {
        "id": "-kQNOK5kfefM",
        "colab_type": "text"
      },
      "source": [
        "# Gasto para pago de Deuda Pública del Ayuntamiento de Colima\n",
        "\n",
        "- **2018:**`$3,382,158.97`\n",
        "- **2019:**`$16,892,437.40`\n",
        "\n",
        "\n",
        "**Source:** [Presupuesto de Egresos del Ayuntamiento de Colima 2020](http://www.colima.gob.mx/portal2016/wp-content/uploads/2017/01/PRESUPUESTO_EGRESOS_2020.pdf)\n"
      ]
    },
    {
      "cell_type": "code",
      "metadata": {
        "id": "H8opxaaGgMD6",
        "colab_type": "code",
        "colab": {
          "base_uri": "https://localhost:8080/",
          "height": 68
        },
        "outputId": "b31bd1f0-e98f-4a20-ee9e-7bb63b0b2c54"
      },
      "source": [
        "def gasto_per_capita(pago_deuda, poblacion):\n",
        "  gasto_per_capita = pago_deuda / poblacion \n",
        "  return gasto_per_capita\n",
        "\n",
        "gasto_per_capita_2018 = gasto_per_capita(3382158.97, poblacion_mcolima)\n",
        "print(\"Gasto per capita para el pago de deuda del Ayuntamiento de Colima en 2018: \", gasto_per_capita_2018)\n",
        "\n",
        "gasto_per_capita_2019 = gasto_per_capita(16892437.40, poblacion_mcolima)\n",
        "print(\"Gasto per capita para el pago de deuda del Ayuntamiento de Colima en 2019: \", gasto_per_capita_2019)\n",
        "\n",
        "\n",
        "variaciona_anual = gasto_per_capita_2019 - gasto_per_capita_2018\n",
        "print((variaciona_anual/gasto_per_capita_2018)*100)\n",
        "  "
      ],
      "execution_count": 6,
      "outputs": [
        {
          "output_type": "stream",
          "text": [
            "Gasto per capita para el pago de deuda del Ayuntamiento de Colima en 2018:  22.447014196305908\n",
            "Gasto per capita para el pago de deuda del Ayuntamiento de Colima en 2019:  112.11323462066859\n",
            "399.45722687304664\n"
          ],
          "name": "stdout"
        }
      ]
    }
  ]
}